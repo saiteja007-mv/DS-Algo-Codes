{
 "cells": [
  {
   "cell_type": "code",
   "execution_count": null,
   "metadata": {},
   "outputs": [],
   "source": [
    "#1.Number series"
   ]
  },
  {
   "cell_type": "code",
   "execution_count": 9,
   "metadata": {},
   "outputs": [
    {
     "name": "stdout",
     "output_type": "stream",
     "text": [
      "Enter number:100\n",
      "It is not a prime because it is divisible by  2\n",
      "2 * 50 is 100\n"
     ]
    }
   ],
   "source": [
    "#Prime number identification \n",
    "#Using for and if..else \n",
    "def isprime(n):\n",
    "    if n > 1:\n",
    "        for i in range(2,n):\n",
    "            if n % i == 0:\n",
    "                print(\"It is not a prime because it is divisible by \",i)\n",
    "                print(i,\"*\",n//i,\"is\",n)\n",
    "                break\n",
    "        else:\n",
    "            print(\"It is a prime\")\n",
    "\n",
    "n = int(input(\"Enter number:\"))\n",
    "isprime(n)"
   ]
  },
  {
   "cell_type": "code",
   "execution_count": 9,
   "metadata": {
    "scrolled": true
   },
   "outputs": [
    {
     "name": "stdout",
     "output_type": "stream",
     "text": [
      "Enter range:5\n",
      "1\n",
      "2\n",
      "3\n",
      "4\n",
      "5\n",
      "[1, 2, 3, 4, 5]\n",
      "[1, 2, 3, 5]\n"
     ]
    }
   ],
   "source": [
    "# Finding out prime number in a list\n",
    "import numpy as np\n",
    "def primeList(upto,l):\n",
    "    primelist = []\n",
    "    for i in l:\n",
    "        #n = i\n",
    "        for j in range(2,i):\n",
    "            if i % j == 0:\n",
    "               # print(\"It is not a prime because it is divisible by \",i)\n",
    "               # print(i,\"*\",i//i,\"is\",i)\n",
    "                break\n",
    "        else:\n",
    "            primelist.append(i)\n",
    "    print(primelist)\n",
    "\n",
    "numbers =[]\n",
    "rangeupto = int(input(\"Enter range:\"))\n",
    "for i in range(rangeupto):\n",
    "    n = int(input())\n",
    "    numbers.append(n)\n",
    "    \n",
    "print(numbers)\n",
    "\n",
    "primeList(rangeupto,numbers)\n",
    "            "
   ]
  },
  {
   "cell_type": "code",
   "execution_count": 10,
   "metadata": {},
   "outputs": [
    {
     "name": "stdout",
     "output_type": "stream",
     "text": [
      "Enter from where to where generate prime numbers\n",
      "0\n",
      "9\n",
      "[1, 2, 3, 5, 7]\n"
     ]
    }
   ],
   "source": [
    "#Generating prime number series\n",
    "def seriesPrime(f,l):\n",
    "    primelist = []\n",
    "    for i in range(f,l):\n",
    "        if i>=1:\n",
    "            n = i\n",
    "            for j in range(2,n):\n",
    "                if n % j == 0:\n",
    "                    break\n",
    "            else:\n",
    "                primelist.append(n)\n",
    "    print(primelist)\n",
    "    \n",
    "print(\"Enter from where to where generate prime numbers\")\n",
    "first= int(input())\n",
    "last=int(input())\n",
    "seriesPrime(first,last)"
   ]
  },
  {
   "cell_type": "code",
   "execution_count": 40,
   "metadata": {},
   "outputs": [
    {
     "name": "stdout",
     "output_type": "stream",
     "text": [
      "15\n",
      "Yaa !! It is odd\n"
     ]
    }
   ],
   "source": [
    "#Even number or not\n",
    "def isevenodd(n):\n",
    "    if n % 2 == 0 :\n",
    "        print(\"Yes it is even\")\n",
    "    else:\n",
    "        print(\"Yaa !! It is odd\")\n",
    "\n",
    "n = int(input())\n",
    "isevenodd(n)"
   ]
  },
  {
   "cell_type": "code",
   "execution_count": 43,
   "metadata": {},
   "outputs": [
    {
     "name": "stdout",
     "output_type": "stream",
     "text": [
      "Enter range:6\n",
      "1\n",
      "2\n",
      "3\n",
      "4\n",
      "5\n",
      "6\n",
      "Even: [2, 4, 6]\n",
      "Odd [1, 3, 5]\n"
     ]
    }
   ],
   "source": [
    "#Separating the even and odd list\n",
    "def listevenodd(l):\n",
    "    even = []\n",
    "    odd = []\n",
    "    for i in l:\n",
    "        if i % 2 == 0:\n",
    "            even.append(i)\n",
    "        else:\n",
    "            odd.append(i)\n",
    "    print(\"Even:\",even)\n",
    "    print(\"Odd\",odd)\n",
    "\n",
    "list_ = []\n",
    "n = int(input(\"Enter range:\"))\n",
    "for i in range(n):\n",
    "    n = int(input())\n",
    "    list_.append(n)\n",
    "listevenodd(list_)"
   ]
  },
  {
   "cell_type": "code",
   "execution_count": 47,
   "metadata": {},
   "outputs": [
    {
     "name": "stdout",
     "output_type": "stream",
     "text": [
      "Enter range:25\n",
      "Even: [0, 2, 4, 6, 8, 10, 12, 14, 16, 18, 20, 22, 24]\n",
      "Odd: [1, 3, 5, 7, 9, 11, 13, 15, 17, 19, 21, 23]\n"
     ]
    }
   ],
   "source": [
    "#Generating series even and odd\n",
    "def generateevenodd(n):\n",
    "    even = []\n",
    "    odd = []\n",
    "    for i in range(n):\n",
    "            if i % 2 == 0:\n",
    "                even.append(i)\n",
    "            else:\n",
    "                odd.append(i)\n",
    "    print(\"Even:\",even)\n",
    "    print(\"Odd:\",odd)\n",
    "\n",
    "n = int(input(\"Enter range:\"))\n",
    "generateevenodd(n)"
   ]
  },
  {
   "cell_type": "code",
   "execution_count": 56,
   "metadata": {},
   "outputs": [
    {
     "name": "stdout",
     "output_type": "stream",
     "text": [
      "Enter number:4\n",
      "Factorial of 4  is 24\n"
     ]
    }
   ],
   "source": [
    "#Factorial generation\n",
    "def fact(n):\n",
    "    fact = 1\n",
    "    if n < 0:\n",
    "        print(\"Factorial not possible\")\n",
    "    elif n == 1 or n == 0:\n",
    "        print(\"Factorial of\",n,\" is 1\")\n",
    "    else:\n",
    "        for i in range(1,n+1):\n",
    "            fact = fact * i\n",
    "        print(\"Factorial of\",n,\" is\",fact)\n",
    "\n",
    "n = int(input(\"Enter number:\"))        \n",
    "fact(n)"
   ]
  },
  {
   "cell_type": "code",
   "execution_count": 3,
   "metadata": {},
   "outputs": [
    {
     "name": "stdout",
     "output_type": "stream",
     "text": [
      "Factorial Series: [1, 2, 6, 24, 120]\n"
     ]
    }
   ],
   "source": [
    "#Factorial Series generations\n",
    "def factSeries(n):\n",
    "    fact = 1\n",
    "    factorials = []\n",
    "    for i in range(1,n):\n",
    "        for j in range(1,i+1):\n",
    "            fact = fact * j\n",
    "        factorials.append(fact)\n",
    "        fact = 1\n",
    "    print(\"Factorial Series:\",factorials)\n",
    "\n",
    "n = int(input(\"Enter range to generate:\"))\n",
    "factSeries(n)"
   ]
  },
  {
   "cell_type": "code",
   "execution_count": 71,
   "metadata": {},
   "outputs": [
    {
     "name": "stdout",
     "output_type": "stream",
     "text": [
      "Which table want to generate89\n",
      "89 * 1 = 89\n",
      "89 * 2 = 178\n",
      "89 * 3 = 267\n",
      "89 * 4 = 356\n",
      "89 * 5 = 445\n",
      "89 * 6 = 534\n",
      "89 * 7 = 623\n",
      "89 * 8 = 712\n",
      "89 * 9 = 801\n",
      "89 * 10 = 890\n"
     ]
    }
   ],
   "source": [
    "#Multiplication table generation\n",
    "def table(n):\n",
    "    for i in range(1,11):\n",
    "        print(n,\"*\",i,\"=\",i*n)\n",
    "\n",
    "n = int(input(\"Which table want to generate\"))\n",
    "table(n)"
   ]
  },
  {
   "cell_type": "code",
   "execution_count": 76,
   "metadata": {},
   "outputs": [
    {
     "name": "stdout",
     "output_type": "stream",
     "text": [
      "Enter number5\n",
      "Enter range upto12\n",
      "5 ** 0 --> 1\n",
      "5 ** 1 --> 5\n",
      "5 ** 2 --> 25\n",
      "5 ** 3 --> 125\n",
      "5 ** 4 --> 625\n",
      "5 ** 5 --> 3125\n",
      "5 ** 6 --> 15625\n",
      "5 ** 7 --> 78125\n",
      "5 ** 8 --> 390625\n",
      "5 ** 9 --> 1953125\n",
      "5 ** 10 --> 9765625\n",
      "5 ** 11 --> 48828125\n"
     ]
    }
   ],
   "source": [
    "#creating power series\n",
    "def power(n,r):\n",
    "    series = []\n",
    "    for i in range(r):\n",
    "        power = n ** i\n",
    "        print(n,\"**\",i,\"-->\",power)\n",
    "\n",
    "n = int(input(\"Enter number\"))\n",
    "r = int(input(\"Enter range upto\"))\n",
    "power(n,r)"
   ]
  },
  {
   "cell_type": "code",
   "execution_count": 89,
   "metadata": {},
   "outputs": [
    {
     "name": "stdout",
     "output_type": "stream",
     "text": [
      "Enter range upto 10\n",
      "Squares\n",
      "1 ** 2 --> 1\n",
      "2 ** 2 --> 4\n",
      "3 ** 2 --> 9\n",
      "4 ** 2 --> 16\n",
      "5 ** 2 --> 25\n",
      "6 ** 2 --> 36\n",
      "7 ** 2 --> 49\n",
      "8 ** 2 --> 64\n",
      "9 ** 2 --> 81\n",
      "10 ** 2 --> 100\n",
      "Cubes\n",
      "1 ** 3 --> 1\n",
      "2 ** 3 --> 8\n",
      "3 ** 3 --> 27\n",
      "4 ** 3 --> 64\n",
      "5 ** 3 --> 125\n",
      "6 ** 3 --> 216\n",
      "7 ** 3 --> 343\n",
      "8 ** 3 --> 512\n",
      "9 ** 3 --> 729\n",
      "10 ** 3 --> 1000\n"
     ]
    }
   ],
   "source": [
    "#Squares of number\n",
    "def powerSquare(r):\n",
    "    for i in range(1,r+1):\n",
    "        power = i ** 2\n",
    "        print(i,\"** 2 -->\",power)\n",
    "\n",
    "#Cubes of numbers\n",
    "def powerCube(r):\n",
    "    for i in range(1,r+1):\n",
    "        power = i ** 3\n",
    "        print(i,\"** 3 -->\",power)\n",
    "\n",
    "#n = int(input(\"Enter number\"))\n",
    "r = int(input(\"Enter range upto \"))\n",
    "print(\"Squares\")\n",
    "powerSquare(r)\n",
    "\n",
    "print(\"Cubes\")\n",
    "powerCube(r)"
   ]
  },
  {
   "cell_type": "code",
   "execution_count": 93,
   "metadata": {},
   "outputs": [
    {
     "name": "stdout",
     "output_type": "stream",
     "text": [
      "Enter string muum\n",
      "Yaa ! It is a palidrome\n"
     ]
    }
   ],
   "source": [
    "#Checking palindrome or not\n",
    "def ispalindrome(string):\n",
    "    return string == string[::-1]\n",
    "string = input(\"Enter string \")\n",
    "res = ispalindrome(string)\n",
    "if res == True:\n",
    "    print(\"Yaa ! It is a palidrome\")\n",
    "else:\n",
    "    print(\"Sorry it is not a plaindrome\")"
   ]
  },
  {
   "cell_type": "code",
   "execution_count": 6,
   "metadata": {},
   "outputs": [
    {
     "name": "stdout",
     "output_type": "stream",
     "text": [
      "Enter range 9\n",
      "[0, 1, 1]\n",
      "[0, 1, 1, 2]\n",
      "[0, 1, 1, 2, 3]\n",
      "[0, 1, 1, 2, 3, 5]\n",
      "[0, 1, 1, 2, 3, 5, 8]\n",
      "[0, 1, 1, 2, 3, 5, 8, 13]\n",
      "[0, 1, 1, 2, 3, 5, 8, 13, 21]\n"
     ]
    }
   ],
   "source": [
    "#Generating fibonacci series\n",
    "def Fibonacci(n):\n",
    "    fibi = [0,1]\n",
    "    for i in range(3,n+1):\n",
    "        f = fibi[i-2] + fibi[i-3]\n",
    "        fibi.append(f)\n",
    "        print(fibi)\n",
    "n = int(input(\"Enter range \"))\n",
    "Fibonacci(n)"
   ]
  },
  {
   "cell_type": "code",
   "execution_count": 2,
   "metadata": {},
   "outputs": [
    {
     "name": "stdout",
     "output_type": "stream",
     "text": [
      "2\n"
     ]
    }
   ],
   "source": [
    "#Occurance of a string in a list\n",
    "data = []\n",
    "data = input(\"Enter data\").split()\n",
    "string = input(\"Enter string\")\n",
    "print(data.count(string))"
   ]
  },
  {
   "cell_type": "code",
   "execution_count": 4,
   "metadata": {},
   "outputs": [
    {
     "name": "stdout",
     "output_type": "stream",
     "text": [
      "[['hello', 1], ['this', 1], ['is', 3]]\n"
     ]
    }
   ],
   "source": [
    "#Occurance of a string in a list 2\n",
    "data = []\n",
    "data = input(\"Enter elements \").split()\n",
    "print([[x,data.count(x)] for x in set(data)])"
   ]
  },
  {
   "cell_type": "code",
   "execution_count": 2,
   "metadata": {},
   "outputs": [
    {
     "name": "stdout",
     "output_type": "stream",
     "text": [
      "['hello', 'this', 'is', 'sai', 'teja']\n",
      "hello this is sai teja\n"
     ]
    }
   ],
   "source": [
    "#Converting a list into a string\n",
    "list_input = []\n",
    "list_input = input().split()\n",
    "print(list_input)\n",
    "String = ' '.join(list_input)\n",
    "print(String)"
   ]
  },
  {
   "cell_type": "code",
   "execution_count": 9,
   "metadata": {},
   "outputs": [
    {
     "name": "stdout",
     "output_type": "stream",
     "text": [
      "Average is  4.8\n"
     ]
    }
   ],
   "source": [
    "#Finding average of the given list of number\n",
    "def average():\n",
    "    a = []\n",
    "    n = int(input(\"Enter range of elements to be entered \"))\n",
    "    for i in range(0,n):\n",
    "        elem = int(input(\"Enter elements \"))\n",
    "        a.append(elem)\n",
    "    avg = sum(a)/n\n",
    "    print(\"Average is \",round(avg,2))\n",
    "average()"
   ]
  },
  {
   "cell_type": "code",
   "execution_count": 1,
   "metadata": {},
   "outputs": [
    {
     "name": "stdout",
     "output_type": "stream",
     "text": [
      "This is armstrong number 1634\n"
     ]
    }
   ],
   "source": [
    "#Armstrong number\n",
    "#A positive integer of n digits is called an Armstrong number of order n (order is number of digits) if. \n",
    "#abcd… = pow(a,n) + pow(b,n) + pow(c,n) + pow(d,n) + …. \n",
    "\n",
    "def Armstrong(number):\n",
    "    sums = 0\n",
    "    strnum = str(number)\n",
    "    mapnum = map(int,strnum)\n",
    "    listnum = list(mapnum)\n",
    "    for digi in listnum:\n",
    "        sums = sums + pow(digi,len(listnum))\n",
    "    if sums == number:\n",
    "        print(\"This is armstrong number\",sums)\n",
    "    else:\n",
    "        print(\"opps ! not it is what you think actually sum is \",sums)\n",
    "        \n",
    "n = int(input(\"Enter number to test \"))\n",
    "Armstrong(n)\n"
   ]
  },
  {
   "cell_type": "code",
   "execution_count": 4,
   "metadata": {},
   "outputs": [
    {
     "name": "stdout",
     "output_type": "stream",
     "text": [
      "827364\n"
     ]
    }
   ],
   "source": [
    "#Reverse a number\n",
    "def reverse(num):\n",
    "    strnum = str(num)\n",
    "    newstring = strnum[::-1]\n",
    "    reverse = int(newstring)\n",
    "    print(reverse)\n",
    "\n",
    "n = int(input(\"Enter number \"))\n",
    "reverse(n)"
   ]
  },
  {
   "cell_type": "code",
   "execution_count": 5,
   "metadata": {},
   "outputs": [
    {
     "name": "stdout",
     "output_type": "stream",
     "text": [
      "The greatest number is  131\n"
     ]
    }
   ],
   "source": [
    "#Greatest among three\n",
    "def greatest(l):\n",
    "        if l[0] > l[1] and l[0] > l[2]:\n",
    "            print(\"The greatest number is \",l[0])\n",
    "        elif l[1] > l[0] and l[1] > l[2]:\n",
    "            print(\"The greatest number is \",l[1])\n",
    "        else :\n",
    "            print(\"The greatest number is \",l[2])\n",
    "n = [88,78,131]\n",
    "greatest(n)"
   ]
  },
  {
   "cell_type": "code",
   "execution_count": 6,
   "metadata": {},
   "outputs": [
    {
     "name": "stdout",
     "output_type": "stream",
     "text": [
      "Enter numbers\n",
      "[1, 7, 4, 8, 3]\n",
      "7\n"
     ]
    }
   ],
   "source": [
    "#Second largest number in list\n",
    "def Secondgreat(l):\n",
    "    l.sort()\n",
    "    print(l[-2])\n",
    "\n",
    "n = int(input(\"Enter range of list \"))\n",
    "numbers = []\n",
    "print(\"Enter numbers\")\n",
    "for i in range(n):\n",
    "    item = int(input())\n",
    "    numbers.append(item)\n",
    "print(numbers)\n",
    "Secondgreat(numbers)"
   ]
  },
  {
   "cell_type": "code",
   "execution_count": 7,
   "metadata": {},
   "outputs": [
    {
     "name": "stdout",
     "output_type": "stream",
     "text": [
      "It's a binary\n"
     ]
    }
   ],
   "source": [
    "#Check whether the given number is binary or not\n",
    "def isBinary(num):\n",
    "    while num >= 0:\n",
    "        remain = num % 10\n",
    "        if remain != 0 and remain != 1:\n",
    "            print(\"Not a binary\")\n",
    "            break\n",
    "        else:\n",
    "            print(\"It's a binary\")\n",
    "            break\n",
    "            \n",
    "n = int(input(\"Enter binary number \"))\n",
    "isBinary(n)"
   ]
  },
  {
   "cell_type": "code",
   "execution_count": null,
   "metadata": {},
   "outputs": [],
   "source": []
  }
 ],
 "metadata": {
  "kernelspec": {
   "display_name": "Python 3.8.5 ('base')",
   "language": "python",
   "name": "python3"
  },
  "language_info": {
   "codemirror_mode": {
    "name": "ipython",
    "version": 3
   },
   "file_extension": ".py",
   "mimetype": "text/x-python",
   "name": "python",
   "nbconvert_exporter": "python",
   "pygments_lexer": "ipython3",
   "version": "3.8.5"
  },
  "vscode": {
   "interpreter": {
    "hash": "6c4d40a1ebab5fe5a337e0c4465e860e7a10e68931b7f7fbf46cf5b6c96cf5dd"
   }
  }
 },
 "nbformat": 4,
 "nbformat_minor": 4
}
